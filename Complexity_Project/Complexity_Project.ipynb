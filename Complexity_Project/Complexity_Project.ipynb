{
 "cells": [
  {
   "cell_type": "markdown",
   "metadata": {},
   "source": [
    "##### <center> MINISTERE DE L’ENSEIGNEMENT SUPERIEUR  ET DE LA RECHERCHE SCIENTIFIQUE <br/> UNIVERSITE DE SOUSSE </center>\n",
    "\n",
    "### <center>Institut Supérieur d’Informatique et de Technique de Communication </center>      \n",
    "<img src=\"logo.png\"> \n",
    "\n",
    "\n"
   ]
  },
  {
   "cell_type": "markdown",
   "metadata": {},
   "source": [
    "***\n",
    "# <center style=\"color:#142EA0\" >-- Projet-Algorithmique avancée --</center>\n",
    "# <center style=\"color:#142EA0\" >-- Thème : Analyse & Complexité des Algorithmes --</center>\n",
    "**************"
   ]
  },
  {
   "cell_type": "markdown",
   "metadata": {},
   "source": [
    "\n",
    "\n",
    "## <center style=\"color:#D6920A\" >Réalisé par:Sabrine Hoiya 2DNI2  </center>\n",
    "*********"
   ]
  },
  {
   "cell_type": "markdown",
   "metadata": {},
   "source": [
    "#### <center> Année Universitaire 2020 – 2021 <center>\n",
    "*****************"
   ]
  },
  {
   "cell_type": "markdown",
   "metadata": {},
   "source": [
    "### <font color='red'>1.    Implémentation des Algorithmes de Tri en Python : </font>"
   ]
  },
  {
   "cell_type": "markdown",
   "metadata": {},
   "source": [
    "> ### <p style=\"color:#028A93\">---Tri par Séléction:</p> "
   ]
  },
  {
   "cell_type": "code",
   "execution_count": 1,
   "metadata": {},
   "outputs": [],
   "source": [
    "def triSelection(Tab):\n",
    "    for i in range(len(Tab)):\n",
    "        min = i\n",
    "        for j in range(i+1,len(Tab)):\n",
    "            if (Tab[j] < Tab[ min]):\n",
    "                min = j\n",
    "        aux = Tab[i]\n",
    "        Tab[i]= Tab[ min]\n",
    "        Tab[ min]=aux\n",
    "    #print(\"****tableau trié(par Selection)****\",Tab)"
   ]
  },
  {
   "cell_type": "markdown",
   "metadata": {},
   "source": [
    "> ### <p style=\"color:#028A93\">---Tri à bulle:</p> "
   ]
  },
  {
   "cell_type": "code",
   "execution_count": 2,
   "metadata": {},
   "outputs": [],
   "source": [
    "def triBulle (Tab):\n",
    "    permut = True\n",
    "    p=len(Tab)-1\n",
    "    while (permut):\n",
    "        permut=False\n",
    "        for i in range(0,p):\n",
    "            if (Tab[i] > Tab[i+1]):\n",
    "                aux=Tab[i]\n",
    "                Tab[i]=Tab[i+1]\n",
    "                Tab[i+1]=aux\n",
    "                permut=True\n",
    "        p-=1\n",
    "    #print(\"****tableau Trié (par Bulle)****\",Tab)"
   ]
  },
  {
   "cell_type": "markdown",
   "metadata": {},
   "source": [
    "> ### <p style=\"color:#028A93\">---Tri par Insertion:</p> "
   ]
  },
  {
   "cell_type": "code",
   "execution_count": 3,
   "metadata": {},
   "outputs": [],
   "source": [
    "def triInsertion (v):\n",
    "    p=len(v)-1\n",
    "    for i in range(0,p) :\n",
    "        x = v[i+1]\n",
    "        j=i\n",
    "        while((v[j] > x ) and (j>=0) ) :\n",
    "            v[j+1] = v[j]\n",
    "            j-= 1\n",
    "        v[j+1] = x\n",
    "    #print(\"****tableau Trié (par Insertion)****\",v)\n",
    "\n"
   ]
  },
  {
   "cell_type": "markdown",
   "metadata": {},
   "source": [
    "> ### <p style=\"color:#028A93\">---Tri par Fusion:</p> "
   ]
  },
  {
   "cell_type": "code",
   "execution_count": 4,
   "metadata": {},
   "outputs": [],
   "source": [
    "def triFusion(v):\n",
    "    \n",
    "    if len(v)>1:\n",
    "        mid = len(v)//2\n",
    "        left = v[:mid]\n",
    "        right= v[mid:]\n",
    "\n",
    "        triFusion(left)\n",
    "        triFusion(right)\n",
    "\n",
    "        i=0\n",
    "        j=0\n",
    "        k=0\n",
    "        while i < len(left) and j < len(right):\n",
    "            if left[i] <= right[j]:\n",
    "                v[k]=left[i]\n",
    "                i=i+1\n",
    "            else:\n",
    "                v[k]=right[j]\n",
    "                j=j+1\n",
    "            k=k+1\n",
    "\n",
    "        while i < len(left):\n",
    "            v[k]=left[i]\n",
    "            i=i+1\n",
    "            k=k+1\n",
    "\n",
    "        while j < len(right):\n",
    "            v[k]=right[j]\n",
    "            j=j+1\n",
    "            k=k+1\n",
    "    "
   ]
  },
  {
   "cell_type": "markdown",
   "metadata": {},
   "source": [
    "> ### <p style=\"color:#028A93\">---Tri Rapide:</p> "
   ]
  },
  {
   "cell_type": "code",
   "execution_count": 24,
   "metadata": {},
   "outputs": [],
   "source": [
    "def trirapide(L):\n",
    " \n",
    "    def trirap(L, g, d):\n",
    "        pivot = L[(g+d)//2]\n",
    "        i = g\n",
    "        j = d\n",
    "        while True:\n",
    "            while L[i]<pivot:\n",
    "                i+=1\n",
    "            while L[j]>pivot:\n",
    "                j-=1\n",
    "            if i>j:\n",
    "                break\n",
    "            if i<j:\n",
    "                L[i], L[j] = L[j], L[i]\n",
    "            i+=1\n",
    "            j-=1\n",
    "        if g<j:\n",
    "            trirap(L,g,j)\n",
    "        if i<d:\n",
    "            trirap(L,i,d)\n",
    " \n",
    "    g=0\n",
    "    d=len(L)-1\n",
    "    R=list(L)\n",
    "    trirap(R,g,d)\n",
    "    #print(\"****tableau Trié (par Rapide)****\",R)\n",
    "    "
   ]
  },
  {
   "cell_type": "markdown",
   "metadata": {},
   "source": [
    "### <font color='red'>2. Génération aléatoirement d'un tableau de n entiers & test des algorithmes de tri : </font>"
   ]
  },
  {
   "cell_type": "markdown",
   "metadata": {},
   "source": [
    "> ### <p style=\"color:#028A93\">---Tri par Séléction:</p> "
   ]
  },
  {
   "cell_type": "code",
   "execution_count": 8,
   "metadata": {},
   "outputs": [
    {
     "name": "stdout",
     "output_type": "stream",
     "text": [
      "****tableau non trié**** [49, 77, 44, 33, 97, 48, 21, 81, 48, 89, 23, 71, 50, 80, 62, 92, 97, 43, 48, 59]\n",
      "****tableau trié(par Selection)**** [21, 23, 33, 43, 44, 48, 48, 48, 49, 50, 59, 62, 71, 77, 80, 81, 89, 92, 97, 97]\n"
     ]
    }
   ],
   "source": [
    "import random\n",
    "liste = []\n",
    "for k in range(20):\n",
    "    liste.append(random.randint(0,100))\n",
    "print(\"****tableau non trié****\",liste)\n",
    "triSelection(liste)"
   ]
  },
  {
   "cell_type": "markdown",
   "metadata": {},
   "source": [
    "> ### <p style=\"color:#028A93\">---Tri à bulle:</p> "
   ]
  },
  {
   "cell_type": "code",
   "execution_count": 9,
   "metadata": {},
   "outputs": [
    {
     "name": "stdout",
     "output_type": "stream",
     "text": [
      "****tableau non trié**** [43, 24, 94, 16, 1, 21, 86, 19, 96, 57, 35, 25, 29, 39, 97, 78, 83, 48, 20, 60]\n",
      "****tableau Trié (par Bulle)**** [1, 16, 19, 20, 21, 24, 25, 29, 35, 39, 43, 48, 57, 60, 78, 83, 86, 94, 96, 97]\n"
     ]
    }
   ],
   "source": [
    "import random\n",
    "liste = []\n",
    "for k in range(20):\n",
    "    liste.append(random.randint(0,100))\n",
    "print(\"****tableau non trié****\",liste)\n",
    "triBulle(liste)"
   ]
  },
  {
   "cell_type": "markdown",
   "metadata": {},
   "source": [
    "> ### <p style=\"color:#028A93\">---Tri par Insertion:</p> "
   ]
  },
  {
   "cell_type": "code",
   "execution_count": 10,
   "metadata": {},
   "outputs": [
    {
     "name": "stdout",
     "output_type": "stream",
     "text": [
      "****tableau non trié**** [51, 10, 7, 7, 57, 2, 18, 44, 31, 50, 53, 61, 44, 18, 19, 7, 38, 70, 11, 83]\n",
      "****tableau Trié (par Insertion)**** [2, 7, 7, 7, 10, 11, 18, 18, 19, 31, 38, 44, 44, 50, 51, 53, 57, 61, 70, 83]\n"
     ]
    }
   ],
   "source": [
    "import random\n",
    "liste = []\n",
    "for k in range(20):\n",
    "    liste.append(random.randint(0,100))\n",
    "print(\"****tableau non trié****\",liste)\n",
    "triInsertion(liste)"
   ]
  },
  {
   "cell_type": "markdown",
   "metadata": {},
   "source": [
    "> ### <p style=\"color:#028A93\">---Tri par Fusion:</p> "
   ]
  },
  {
   "cell_type": "code",
   "execution_count": 11,
   "metadata": {},
   "outputs": [
    {
     "name": "stdout",
     "output_type": "stream",
     "text": [
      "****tableau non trié**** [23, 44, 31, 23, 31, 90, 70, 93, 90, 64, 61, 34, 33, 68, 4, 22, 51, 5, 90, 43]\n",
      "****tableau Trié (par Fusion)**** [4, 5, 22, 23, 23, 31, 31, 33, 34, 43, 44, 51, 61, 64, 68, 70, 90, 90, 90, 93]\n"
     ]
    }
   ],
   "source": [
    "import random\n",
    "liste = []\n",
    "for k in range(20):\n",
    "    liste.append(random.randint(0,100))\n",
    "print(\"****tableau non trié****\",liste)\n",
    "triFusion(liste)\n",
    "print(\"****tableau Trié (par Fusion)****\",liste)\n"
   ]
  },
  {
   "cell_type": "markdown",
   "metadata": {},
   "source": [
    "> ### <p style=\"color:#028A93\">---Tri Rapide:</p> "
   ]
  },
  {
   "cell_type": "code",
   "execution_count": 43,
   "metadata": {
    "scrolled": true
   },
   "outputs": [
    {
     "name": "stdout",
     "output_type": "stream",
     "text": [
      "****tableau non trié**** [8, 24, 28, 74, 5, 75, 73, 3, 9, 60, 14, 77, 82, 17, 14, 46, 68, 31, 57, 63]\n",
      "****tableau Trié (par Rapide)**** [3, 5, 8, 9, 14, 14, 17, 24, 28, 31, 46, 57, 60, 63, 68, 73, 74, 75, 77, 82]\n"
     ]
    }
   ],
   "source": [
    "import random\n",
    "liste = []\n",
    "for k in range(20):\n",
    "    liste.append(random.randint(0,100))\n",
    "print(\"****tableau non trié****\",liste)\n",
    "trirapide(liste)\n",
    "\n"
   ]
  },
  {
   "cell_type": "markdown",
   "metadata": {},
   "source": [
    "### <font color='red'>3. Mesure du temps d’exécution de chaque algorithme : </font>\n",
    "\n",
    ">#### à chaqu fois j'entre la taille du tableau à trier et je teste tous les algorithmes de trie et enfin j'enregistre le temps d'éxécution dans un tableau"
   ]
  },
  {
   "cell_type": "code",
   "execution_count": 3,
   "metadata": {},
   "outputs": [
    {
     "name": "stdout",
     "output_type": "stream",
     "text": [
      "SVP Enter N la taille du tableau à trier(de 20000 à 100000 avec un pas de 5000)\n",
      "100000\n"
     ]
    }
   ],
   "source": [
    "print (\"SVP Enter N la taille du tableau à trier(de 20000 à 100000 avec un pas de 5000)\")\n",
    "N = int(input())"
   ]
  },
  {
   "cell_type": "markdown",
   "metadata": {},
   "source": [
    "> ### <p style=\"color:#028A93\">---Tri par Séléction:</p> "
   ]
  },
  {
   "cell_type": "code",
   "execution_count": null,
   "metadata": {},
   "outputs": [],
   "source": [
    "import time\n",
    "import numpy\n",
    "\n",
    "def time_Selection(N):\n",
    " \n",
    "    t1 = time.time() # l’horloge avant l'éxéction de l'algorithme\n",
    "    for k in range(N):\n",
    "        liste = numpy.random.randint(0,k,size=k)\n",
    "        triSelection(liste)\n",
    "        t2 = time.time()-t1 # la durée de l'éxéction de l'algorithme(horloge apres l'éxecution - horloge avant l'éxution)\n",
    "    return t2\n",
    "\n",
    "\n",
    "\n",
    "\n",
    "print(\"***temps d'éxécution de tri par Selection****\",time_Selection(N))"
   ]
  },
  {
   "cell_type": "markdown",
   "metadata": {},
   "source": [
    "> ### <p style=\"color:green\">---tableau de mesure:</p> "
   ]
  },
  {
   "cell_type": "markdown",
   "metadata": {},
   "source": [
    "N taille de tableau à trier   |                  Temps d’exécution de l'algorithme\n",
    ":----- | :----: \n",
    "20000   |   9.84722\n",
    "25000  |  15.39586 \n",
    "30000|20.96325\n",
    "35000| 28.9631\n",
    "40000|41.86921\n",
    "45000|52.18962\n",
    "50000|62.36958\n",
    "55000|76.16998\n",
    "60000|90.89039\n",
    "65000|103.9654\n",
    "70000|123.6393\n",
    "75000|140.9115\n",
    "80000|161.0444\n",
    "85000|184.8695\n",
    "90000|211.05243\n",
    "95000| 222.9345\n",
    "100000| 237.5846"
   ]
  },
  {
   "cell_type": "markdown",
   "metadata": {},
   "source": [
    "> ### <p style=\"color:#028A93\">---Tri par Insertion:</p> "
   ]
  },
  {
   "cell_type": "code",
   "execution_count": 4,
   "metadata": {},
   "outputs": [],
   "source": [
    "import time\n",
    "import numpy\n",
    "\n",
    "def time_Insertion(N):\n",
    " \n",
    "    t1 = time.time() # l’horloge avant l'éxéction de l'algorithme\n",
    "    for k in range(N):\n",
    "        liste = numpy.random.randint(0,k,size=k)\n",
    "        triInsertion(liste)\n",
    "        t2 = time.time()-t1 # la durée de l'éxéction de l'algorithme(horloge apres l'éxecution - horloge avant l'éxution)\n",
    "    return t2\n",
    "print(\"***temps d'éxécution de tri par Insertion****\",time_Insertion(N))"
   ]
  },
  {
   "cell_type": "markdown",
   "metadata": {},
   "source": [
    "> ### <p style=\"color:green\">---tableau de mesure:</p> "
   ]
  },
  {
   "cell_type": "markdown",
   "metadata": {},
   "source": [
    "N taille de tableau à trier   |                  Temps d’exécution de l'algorithme\n",
    ":----- | :----: \n",
    "20000   |  16.33275\n",
    "25000  |  23.7612333 \n",
    "30000|33.94397876 \n",
    "35000|49.25305176\n",
    "40000|62.9477783\n",
    "45000|78.370334\n",
    "50000| 91.410887\n",
    "55000|118.7141113\n",
    "60000|140.25714121\n",
    "65000|161.60139618\n",
    "70000|187.9801636 \n",
    "75000| 205.96501465\n",
    "80000|230.291778226 \n",
    "85000|263.7485524\n",
    "90000| 307.0490651 \n",
    "95000|332.0039756775\n",
    "100000| 370.0564823 "
   ]
  },
  {
   "cell_type": "markdown",
   "metadata": {},
   "source": [
    "> ### <p style=\"color:#028A93\">---Tri à Bulle:</p> "
   ]
  },
  {
   "cell_type": "code",
   "execution_count": 5,
   "metadata": {},
   "outputs": [],
   "source": [
    "import time\n",
    "import numpy\n",
    "\n",
    "def time_Bulle(N):\n",
    " \n",
    "    t1 = time.time() # l’horloge avant l'éxéction de l'algorithme\n",
    "    for k in range(N):\n",
    "        liste = numpy.random.randint(0,k,size=k)\n",
    "        triBulle(liste)\n",
    "        t2 = time.time()-t1 # la durée de l'éxéction de l'algorithme(horloge apres l'éxecution - horloge avant l'éxution)\n",
    "    return t2\n",
    "print(\"***temps d'éxécution de tri à Bulle****\",time_Bulle(N))"
   ]
  },
  {
   "cell_type": "markdown",
   "metadata": {},
   "source": [
    "> ### <p style=\"color:green\">---tableau de mesure:</p> "
   ]
  },
  {
   "cell_type": "markdown",
   "metadata": {},
   "source": [
    "N taille de tableau à trier   |                  Temps d’exécution de l'algorithme\n",
    ":----- | :----: \n",
    "20000   | 51.29174518585205 \n",
    "25000  | 74.87270736694336\n",
    "30000|111.26189303398132\n",
    "35000| 154.88280725479126\n",
    "40000|211.299399614334\n",
    "45000|246.14365315437317\n",
    "50000|272.88104939460754\n",
    "55000|129.78659058 \n",
    "60000|324.89021706581116\n",
    "65000|405.4855213165283\n",
    "70000|486.991885423\n",
    "75000|578.3067035675049 \n",
    "80000|629.1157581806183\n",
    "85000| 1164.689427614212\n",
    "90000|1029.15579509735\n",
    "95000|1029.155795097351\n",
    "100000|1902.127598285675\n"
   ]
  },
  {
   "cell_type": "markdown",
   "metadata": {},
   "source": [
    "> ### <p style=\"color:#028A93\">---Tri par Fusion:</p> "
   ]
  },
  {
   "cell_type": "code",
   "execution_count": 19,
   "metadata": {},
   "outputs": [],
   "source": [
    "import time\n",
    "import numpy\n",
    "\n",
    "def time_Fusion(N):\n",
    " \n",
    "    t1 = time.time() # l’horloge avant l'éxéction de l'algorithme\n",
    "    for k in range(N):\n",
    "        liste = numpy.random.randint(0,k,size=k)\n",
    "        triFusion(liste)\n",
    "        t2 = time.time()-t1 # la durée de l'éxéction de l'algorithme(horloge apres l'éxecution - horloge avant l'éxution)\n",
    "    return t2\n",
    "print(\"***temps d'éxécution de tri par Fusion****\",time_Fusion(N))"
   ]
  },
  {
   "cell_type": "markdown",
   "metadata": {},
   "source": [
    "> ### <p style=\"color:green\">---tableau de mesure:</p> "
   ]
  },
  {
   "cell_type": "markdown",
   "metadata": {},
   "source": [
    "N taille de tableau à trier   |                  Temps d’exécution de l'algorithme\n",
    ":----- | :----: \n",
    "20000   |  0.0690150260925293 \n",
    "25000  |  0.07752847671508789 \n",
    "30000|0.10027909278869629 \n",
    "35000|0.11578798294067383\n",
    "40000|0.13299989700317383 \n",
    "45000|0.14914560317993164 \n",
    "50000|0.17033171653747559 \n",
    "55000|0.19634652137756348 \n",
    "60000|0.2071833610534668\n",
    "65000|0.22735023498535156\n",
    "70000| 0.23462986946105957\n",
    "75000|0.2583894729614258 \n",
    "80000| 0.2686886787414551\n",
    "85000|0.2938354015350342\n",
    "90000|0.31865429878234863\n",
    "95000| 0.35184764862060547\n",
    "100000| 0.3797025680541992"
   ]
  },
  {
   "cell_type": "markdown",
   "metadata": {},
   "source": [
    "> ### <p style=\"color:#028A93\">---Tri Rapide:</p> "
   ]
  },
  {
   "cell_type": "code",
   "execution_count": null,
   "metadata": {},
   "outputs": [],
   "source": [
    "import time\n",
    "import numpy\n",
    "\n",
    "#time.clock() est supprimé dans python 3.8 et elle est remplacé par process_time() \n",
    "\n",
    "t1 = time.process_time() # l’horloge avant l'éxéction de l'algorithme\n",
    "\n",
    "for k in range(N):\n",
    "    liste = numpy.random.randint(0,N,size=N)\n",
    "    trirapide(liste)\n",
    "    t2 = time.process_time()-t1 # la durée de l'éxéction de l'algorithme(horloge apres l'éxecution - horloge avant l'éxution)\n",
    "\n",
    "#print(\"***temps d'éxécution de tri Rapide****\",t2)"
   ]
  },
  {
   "cell_type": "markdown",
   "metadata": {},
   "source": [
    "> ### <p style=\"color:green\">---tableau de mesure:</p> "
   ]
  },
  {
   "cell_type": "markdown",
   "metadata": {},
   "source": [
    "N taille de tableau à trier   |                  Temps d’exécution de l'algorithme\n",
    ":----- | :----: \n",
    "20000   |  0.25515657897\n",
    "25000  |0.3911662292480469\n",
    "30000|  0.4537326908111572\n",
    "35000|  0.695600061416626\n",
    "40000|0.86754990386963\n",
    "45000|1.0281440925598145\n",
    "50000| 1.2522017002105713\n",
    "55000| 1.643095464706421\n",
    "60000| 1.8519826889038086\n",
    "65000|2.196239471435547\n",
    "70000|2.4892189502716064 \n",
    "75000|3.1038131713867188\n",
    "80000| 3.150228977203369\n",
    "85000| 3.7129898071289062\n",
    "90000| 4.27129054069519\n",
    "95000|4.4472284317016\n",
    "100000| 6.5985565186"
   ]
  },
  {
   "cell_type": "markdown",
   "metadata": {},
   "source": [
    "### <font color='red'>4. Allure du temps d’exécution de chaque algorithme : </font>"
   ]
  },
  {
   "cell_type": "markdown",
   "metadata": {},
   "source": [
    "> ### <p style=\"color:#028A93\">---Tri Selection:</p> "
   ]
  },
  {
   "cell_type": "code",
   "execution_count": 7,
   "metadata": {},
   "outputs": [
    {
     "data": {
      "image/png": "[encoded data removed]",
      "text/plain": [
       "<Figure size 504x576 with 1 Axes>"
      ]
     },
     "metadata": {
      "needs_background": "light"
     },
     "output_type": "display_data"
    }
   ],
   "source": [
    "import matplotlib.pyplot as plt\n",
    "import time\n",
    "import numpy as np\n",
    "\n",
    "n=np.array([20000,25000,30000,35000,40000,45000,50000,55000,60000,65000,70000,75000,80000,85000,90000,95000,100000])\n",
    "tmp_execute = np.array([9.84722,15.39586 ,20.96325,28.9631,41.86921,52.18962,62.36958,76.16998,90.89039,103.9654,123.6393,140.9115,161.0444,184.8695,211.05243,222.9345,237.5846])\n",
    "\n",
    "plt.figure(figsize=(7,8))\n",
    "plt.plot(n,tmp_execute)\n",
    "plt.xlabel('Valeurs de N(taille du tableau )')\n",
    "plt.ylabel('Le temps d execution (en secondes)')\n",
    "plt.title('Tri par Sélection ')\n",
    "plt.show()"
   ]
  },
  {
   "cell_type": "markdown",
   "metadata": {},
   "source": [
    "> ### <p style=\"color:#028A93\">---Tri Insertion:</p> "
   ]
  },
  {
   "cell_type": "code",
   "execution_count": 9,
   "metadata": {},
   "outputs": [
    {
     "data": {
      "image/png": "[encoded data removed]",
      "text/plain": [
       "<Figure size 504x576 with 1 Axes>"
      ]
     },
     "metadata": {
      "needs_background": "light"
     },
     "output_type": "display_data"
    }
   ],
   "source": [
    "import matplotlib.pyplot as plt\n",
    "import time\n",
    "import numpy as np\n",
    "\n",
    "n=np.array([20000,25000,30000,35000,40000,45000,50000,55000,60000,65000,70000,75000,80000,85000,90000,95000,100000])\n",
    "tmp_execute = np.array([16.33275\n",
    " ,23.7612333 \n",
    ",33.94397876 \n",
    ",49.25305176\n",
    ",62.9477783\n",
    ",78.370334\n",
    " ,91.410887\n",
    ",118.7141113\n",
    ",140.25714121\n",
    ",161.60139618\n",
    ",187.9801636 \n",
    ",205.96501465\n",
    ",230.291778226 \n",
    ",263.7485524\n",
    " ,307.0490651 \n",
    ",332.0039756775\n",
    " ,370.0564823 ])\n",
    "\n",
    "plt.figure(figsize=(7,8))\n",
    "plt.plot(n,tmp_execute,'red')\n",
    "plt.xlabel('Valeurs de N(taille du tableau )')\n",
    "plt.ylabel('Le temps d execution (en secondes)')\n",
    "plt.title('Tri par Insertion ')\n",
    "plt.show()"
   ]
  },
  {
   "cell_type": "markdown",
   "metadata": {},
   "source": [
    "> ### <p style=\"color:#028A93\">---Tri Bulle:</p> "
   ]
  },
  {
   "cell_type": "code",
   "execution_count": 18,
   "metadata": {},
   "outputs": [
    {
     "data": {
      "image/png": "[encoded data removed]",
      "text/plain": [
       "<Figure size 504x576 with 1 Axes>"
      ]
     },
     "metadata": {
      "needs_background": "light"
     },
     "output_type": "display_data"
    }
   ],
   "source": [
    "import matplotlib.pyplot as plt\n",
    "import time\n",
    "import numpy as np\n",
    "\n",
    "n=np.array([20000,25000,30000,35000,40000,45000,50000,55000,60000,65000,70000,75000,80000,85000,90000,95000,100000])\n",
    "tmp_execute = np.array([51.29174518585205,74.87270736694336,111.26189303398132,154.88280725479126,211.2993996143341,246.14365315437317,272.88104939460754,324.89021706581116,405.4855213165283,486.9918854236603,578.3067035675049,629.1157581806183,787.0760788917542,831.9322817325592,1164.689427614212,1029.155795097351,1902.127598285675\n",
    " ])\n",
    "\n",
    "plt.figure(figsize=(7,8))\n",
    "plt.plot(n,tmp_execute,'green')\n",
    "plt.xlabel('Valeurs de N(taille du tableau )')\n",
    "plt.ylabel('Le temps d execution (en secondes)')\n",
    "plt.title('Tri à Bulle ')\n",
    "plt.show()\n"
   ]
  },
  {
   "cell_type": "markdown",
   "metadata": {},
   "source": [
    "> ### <p style=\"color:#028A93\">---Tri Fusion:</p> "
   ]
  },
  {
   "cell_type": "code",
   "execution_count": 20,
   "metadata": {},
   "outputs": [
    {
     "data": {
      "image/png": "[encoded data removed]",
      "text/plain": [
       "<Figure size 504x576 with 1 Axes>"
      ]
     },
     "metadata": {
      "needs_background": "light"
     },
     "output_type": "display_data"
    }
   ],
   "source": [
    "import matplotlib.pyplot as plt\n",
    "import time\n",
    "import numpy as np\n",
    "\n",
    "n=np.array([20000,25000,30000,35000,40000,45000,50000,55000,60000,65000,70000,75000,80000,85000,90000,95000,100000])\n",
    "temp_execute = np.array([0.0690150260925293 , 0.07752847671508789 ,0.10027909278869629 ,0.11578798294067383,0.13299989700317383 ,0.14914560317993164 ,0.17033171653747559 ,0.19634652137756348 ,0.2071833610534668,0.22735023498535156, 0.23462986946105957,0.2583894729614258 , 0.2686886787414551,0.2938354015350342,0.31865429878234863, 0.35184764862060547, 0.3797025680541992])             \n",
    "\n",
    "\n",
    "plt.figure(figsize=(7,8))\n",
    "plt.plot(n,temp_execute,'purple')\n",
    "plt.xlabel('Valeurs de N(taille du tableau )')\n",
    "plt.ylabel('Le temps d execution (en secondes)')\n",
    "plt.title('Tri par Fusion ')\n",
    "plt.show()\n"
   ]
  },
  {
   "cell_type": "markdown",
   "metadata": {},
   "source": [
    "> ### <p style=\"color:#028A93\">---Tri Rapide:</p> "
   ]
  },
  {
   "cell_type": "code",
   "execution_count": 23,
   "metadata": {},
   "outputs": [
    {
     "data": {
      "image/png": "[encoded data removed]",
      "text/plain": [
       "<Figure size 504x576 with 1 Axes>"
      ]
     },
     "metadata": {
      "needs_background": "light"
     },
     "output_type": "display_data"
    }
   ],
   "source": [
    "\n",
    "import matplotlib.pyplot as plt\n",
    "import time\n",
    "import numpy as np\n",
    "\n",
    "n=np.array([20000,25000,30000,35000,40000,45000,50000,55000,60000,65000,70000,75000,80000,85000,90000,95000,100000])\n",
    "temp_execute = np.array([0.25515657897\n",
    ",0.3911662292480469\n",
    ",0.4537326908111572\n",
    " ,0.695600061416626\n",
    ",0.86754990386963\n",
    ",1.0281440925598145\n",
    ", 1.2522017002105713\n",
    ",1.643095464706421\n",
    " ,1.8519826889038086\n",
    ",2.196239471435547\n",
    ",2.4892189502716064 \n",
    ",3.1038131713867188\n",
    ", 3.150228977203369\n",
    ",3.7129898071289062\n",
    ", 4.27129054069519\n",
    ",4.4472284317016\n",
    ",6.5985565186])\n",
    "\n",
    "plt.figure(figsize=(7,8))\n",
    "plt.plot(n,temp_execute,'purple')\n",
    "plt.xlabel('Valeurs de N(taille du tableau )')\n",
    "plt.ylabel('Le temps d execution (en secondes)')\n",
    "plt.title('Tri Rapide ')\n",
    "plt.show()\n"
   ]
  },
  {
   "cell_type": "code",
   "execution_count": 6,
   "metadata": {},
   "outputs": [
    {
     "data": {
      "image/png": "[encoded data removed]",
      "text/plain": [
       "<Figure size 720x360 with 1 Axes>"
      ]
     },
     "metadata": {
      "needs_background": "light"
     },
     "output_type": "display_data"
    }
   ],
   "source": [
    "import matplotlib.pyplot as plt\n",
    "import numpy as np\n",
    "n=np.array([20000,25000,30000,35000,40000,45000,50000,55000,60000,65000,70000,75000,80000,85000,90000,95000,100000])\n",
    "\n",
    "temp_rapide = np.array([0.25515657897\n",
    ",0.3911662292480469\n",
    ",0.4537326908111572\n",
    " ,0.695600061416626\n",
    ",0.86754990386963\n",
    ",1.0281440925598145\n",
    ", 1.2522017002105713\n",
    ",1.643095464706421\n",
    " ,1.8519826889038086\n",
    ",2.196239471435547\n",
    ",2.4892189502716064 \n",
    ",3.1038131713867188\n",
    ", 3.150228977203369\n",
    ",3.7129898071289062\n",
    ", 4.27129054069519\n",
    ",4.4472284317016\n",
    ",6.5985565186])\n",
    "temp_Fusion = np.array([0.0690150260925293 , 0.07752847671508789 ,0.10027909278869629 ,0.11578798294067383,0.13299989700317383 ,0.14914560317993164 ,0.17033171653747559 ,0.19634652137756348 ,0.2071833610534668,0.22735023498535156, 0.23462986946105957,0.2583894729614258 , 0.2686886787414551,0.2938354015350342,0.31865429878234863, 0.35184764862060547, 0.3797025680541992])             \n",
    "tmp_Bulle = np.array([51.29174518585205,74.87270736694336,111.26189303398132,154.88280725479126,211.2993996143341,246.14365315437317,272.88104939460754,324.89021706581116,405.4855213165283,486.9918854236603,578.3067035675049,629.1157581806183,787.0760788917542,831.9322817325592,1164.689427614212,1029.155795097351,1902.127598285675\n",
    " ])\n",
    "tmp_insertion = np.array([16.33275\n",
    " ,23.7612333 \n",
    ",33.94397876 \n",
    ",49.25305176\n",
    ",62.9477783\n",
    ",78.370334\n",
    " ,91.410887\n",
    ",118.7141113\n",
    ",140.25714121\n",
    ",161.60139618\n",
    ",187.9801636 \n",
    ",205.96501465\n",
    ",230.291778226 \n",
    ",263.7485524\n",
    " ,307.0490651 \n",
    ",332.0039756775\n",
    " ,370.0564823 ])\n",
    "tmp_selec = np.array([9.84722,15.39586 ,20.96325,28.9631,41.86921,52.18962,62.36958,76.16998,90.89039,103.9654,123.6393,140.9115,161.0444,184.8695,211.05243,222.9345,237.5846])\n",
    "\n",
    "\n",
    "fig=plt.figure(1,figsize=(10,5))\n",
    "plt.plot(n,tmp_selec,label='tri_selection')\n",
    "plt.plot(n,tmp_insertion,label='tri_insertion')\n",
    "plt.plot(n,tmp_Bulle,label='tri_bulle')\n",
    "plt.plot(n,temp_rapide,label='tri_rapid',marker=\"*\")\n",
    "plt.plot(n,temp_Fusion ,label=\"tri_fusion\")\n",
    "plt.xlabel('valeur de N(taille du tableau à trier)')\n",
    "plt.ylabel('temps (en secondes)')\n",
    "plt.legend()\n",
    "plt.show()"
   ]
  },
  {
   "cell_type": "markdown",
   "metadata": {},
   "source": [
    "> ### <font color='red'>4. Conclusion : </font> \n",
    "### <p style=\"color:black\">---> le tri par Fusion est le plus rapide par rapport au autres algorithme de tri. </p>  \n",
    "### <p style=\"color:black\">---> le temps d'exécution d'un Algorithme dépend de sa taille.dans notre cas ce temps dépend du  nombre N d'éléments à trier. </p>  "
   ]
  },
  {
   "cell_type": "markdown",
   "metadata": {},
   "source": [
    "\n",
    "   "
   ]
  },
  {
   "cell_type": "code",
   "execution_count": null,
   "metadata": {},
   "outputs": [],
   "source": []
  }
 ],
 "metadata": {
  "kernelspec": {
   "display_name": "Python 3",
   "language": "python",
   "name": "python3"
  },
  "language_info": {
   "codemirror_mode": {
    "name": "ipython",
    "version": 3
   },
   "file_extension": ".py",
   "mimetype": "text/x-python",
   "name": "python",
   "nbconvert_exporter": "python",
   "pygments_lexer": "ipython3",
   "version": "3.7.6"
  }
 },
 "nbformat": 4,
 "nbformat_minor": 4
}
